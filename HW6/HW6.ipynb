{
 "cells": [
  {
   "cell_type": "markdown",
   "metadata": {},
   "source": [
    "Домашнее задание¶\n",
    "\n",
    "1.Переведите содержимое файла purchase_log.txt в словарь purchases вида:\n",
    "\n",
    "{'1840e0b9d4': 'Продукты', ...}\n",
    "\n",
    "2. Для каждого user_id в файле visit_log.csv определите третий столбец с категорией покупки (если покупка была, сам файл visit_log.csv изменять не надо). Запишите в файл funnel.csv визиты из файла visit_log.csv, в которых были покупки с указанием категории.\n",
    "\n",
    "Учтите условия на данные:\n",
    "\n",
    "содержимое purchase_log.txt помещается в оперативную память компьютера\n",
    "содержимое visit_log.csv - нет; используйте только построчную обработку этого файла"
   ]
  },
  {
   "cell_type": "code",
   "execution_count": null,
   "metadata": {},
   "outputs": [],
   "source": [
    "1.Переведите содержимое файла purchase_log.txt в словарь purchases вида:\n",
    "\n",
    "{'1840e0b9d4': 'Продукты', ...}"
   ]
  },
  {
   "cell_type": "code",
   "execution_count": 8,
   "metadata": {},
   "outputs": [
    {
     "name": "stdout",
     "output_type": "stream",
     "text": [
      "<class 'list'>\n",
      "<class 'dict'>\n",
      "{}\n",
      "{'1840e0b9d4': 'Продукты'}\n",
      "{'1840e0b9d4': 'Продукты', '4e4f90fcfb': 'Электроника'}\n",
      "{'1840e0b9d4': 'Продукты', '4e4f90fcfb': 'Электроника', 'afea8d72fc': 'Электроника'}\n",
      "{'1840e0b9d4': 'Продукты', '4e4f90fcfb': 'Электроника', 'afea8d72fc': 'Электроника', '373a6055fe': 'Бытовая техника'}\n",
      "{'1840e0b9d4': 'Продукты', '4e4f90fcfb': 'Электроника', 'afea8d72fc': 'Электроника', '373a6055fe': 'Бытовая техника', '9b2ab046f3': 'Электроника'}\n"
     ]
    }
   ],
   "source": [
    "import json\n",
    "f = open('purchase_log.txt', 'r', encoding='UTF-8' )\n",
    "content = f.readlines()\n",
    "purchases={}\n",
    "print(type(content))\n",
    "print(type(purchases))\n",
    "i=0\n",
    "for el in content:\n",
    "    p=json.loads(el)\n",
    "    if p['user_id'] != 'user_id':\n",
    "        purchases[p['user_id']]=p['category']\n",
    "    print(purchases)\n",
    "    i+=1\n",
    "    if i>5:\n",
    "        break\n",
    "f.close()"
   ]
  },
  {
   "cell_type": "code",
   "execution_count": null,
   "metadata": {},
   "outputs": [],
   "source": [
    "2. Для каждого user_id в файле visit_log.csv определите третий столбец с категорией покупки \n",
    "(если покупка была, сам файл visit_log.csv изменять не надо). \n",
    "Запишите в файл funnel.csv визиты из файла visit_log.csv, в которых были покупки с указанием категории."
   ]
  },
  {
   "cell_type": "code",
   "execution_count": 7,
   "metadata": {},
   "outputs": [
    {
     "name": "stdout",
     "output_type": "stream",
     "text": [
      "END =  99999\n",
      "Нашел 1840e0b9d4 other Продукты\n",
      "Нашел 4e4f90fcfb context Электроника\n",
      "Нашел afea8d72fc other Электроника\n",
      "Конец = 101\n"
     ]
    }
   ],
   "source": [
    "import json\n",
    "f = open('purchase_log.txt', 'r', encoding='UTF-8' )\n",
    "fr = open('visit_log.csv', 'r', encoding='UTF-8')\n",
    "fw = open('funnel.csv', 'w')\n",
    "content = f.readlines()\n",
    "purchases={}\n",
    "i=0\n",
    "for el in content:\n",
    "    p=json.loads(el)\n",
    "    if p['user_id'] != 'user_id':\n",
    "        purchases[p['user_id']]=p['category']\n",
    "        i+=1\n",
    "#    print(purchases)\n",
    "print('END = ',i)\n",
    "i=0\n",
    "for line in fr:\n",
    "    list_=line.strip().split(',')\n",
    "#    print(list_, type(list_))\n",
    "#    print(list_[0])\n",
    "    for key, value in purchases.items():\n",
    "        if key == list_[0]:\n",
    "            print('Нашел',list_[0],list_[1],value)\n",
    "            fw.write(list_[0]+','+list_[1]+','+value+'\\n')\n",
    "    i+=1\n",
    "    if i>100:\n",
    "        break\n",
    "print('Конец =',i)\n",
    "f.close()\n",
    "fr.close()\n",
    "fw.close()"
   ]
  },
  {
   "cell_type": "code",
   "execution_count": null,
   "metadata": {},
   "outputs": [],
   "source": [
    "content = f.readlines()\n",
    "content[:5]"
   ]
  },
  {
   "cell_type": "code",
   "execution_count": null,
   "metadata": {},
   "outputs": [],
   "source": [
    "fr = open('visit_log.csv', 'r', encoding='UTF-8')\n",
    "#fw = open('funnel.csv', 'w')\n",
    "#fw = open('test.txt', 'w') as fw\n",
    "with open('test.txt','w'):\n",
    "    fw.write('Hellow\\n')\n",
    "fr.close\n",
    "fw.close"
   ]
  }
 ],
 "metadata": {
  "kernelspec": {
   "display_name": "Python 3",
   "language": "python",
   "name": "python3"
  },
  "language_info": {
   "codemirror_mode": {
    "name": "ipython",
    "version": 3
   },
   "file_extension": ".py",
   "mimetype": "text/x-python",
   "name": "python",
   "nbconvert_exporter": "python",
   "pygments_lexer": "ipython3",
   "version": "3.7.6"
  }
 },
 "nbformat": 4,
 "nbformat_minor": 4
}
