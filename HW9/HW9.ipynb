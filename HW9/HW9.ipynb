{
 "cells": [
  {
   "cell_type": "markdown",
   "metadata": {},
   "source": [
    "Задание 1.\n",
    " Напишите функцию, которая принимает на вход строку и проверяет является ли она валидным транспортным номером. \n",
    " Если да, то функция должна возвращать отдельно номер и регион.\n",
    " "
   ]
  },
  {
   "cell_type": "code",
   "execution_count": null,
   "metadata": {},
   "outputs": [],
   "source": [
    "Регистрационные знаки ТС. Формат номерного знака, содержащий букву, 3 цифры, затем – еще 2 буквы и код региона."
   ]
  },
  {
   "cell_type": "code",
   "execution_count": 3,
   "metadata": {},
   "outputs": [],
   "source": [
    "import re"
   ]
  },
  {
   "cell_type": "code",
   "execution_count": 4,
   "metadata": {},
   "outputs": [],
   "source": [
    "def check_number():\n",
    "#А123ММ76\n",
    "#о456ух77\n",
    "    text=input('Введите транспортный номер : ')\n",
    "    if (re.search(r'[АВЕКМНОРСТУХавекмнорстух]\\d{3}[АВЕКМНОРСТУХавекмнорстух]{2}\\d{2,3}',text)):\n",
    "        print('Номер =',text[1:4],'регион =',text[6:9])\n",
    "    else:\n",
    "        print('Это не транспортный номер')"
   ]
  },
  {
   "cell_type": "code",
   "execution_count": 5,
   "metadata": {},
   "outputs": [
    {
     "name": "stdout",
     "output_type": "stream",
     "text": [
      "Введите транспортный номер : о456ух77\n",
      "Номер = 456 регион = 77\n"
     ]
    }
   ],
   "source": [
    "check_number()"
   ]
  },
  {
   "cell_type": "markdown",
   "metadata": {},
   "source": [
    "Задание 2.\n",
    "Постарайтесь написать (в крайнем случае найти) самый полный шаблон для проверки e-mail адресов через регулярное выражение, \n",
    "которая проверяет e-mail адрес на валидность. \n",
    "Можно руководствоваться следующими минимальными требованиями:\n",
    "• адрес должен содержать специальный символ \"@\", который отделяет имя пользователя почтовой системы от доменного имени;\n",
    "• адрес не должен содержать следующие символы: \n",
    "\"пробел\", \",\",\":\", \";\", \"!\", \"#\", \"%\", \"*\", \"(\", \")\", \"=\", \"+\", \"{\", \"}\", \" \" \", \" ' \", \" / \", \" \\ \" и \"|\";\n",
    "• адрес должен состоять только из латинских символов;\n",
    "• после символа \"@\" должна быть как минимум одна \".\";\n",
    "• после последней точки должно быть не менее 2-х и не более 4-х символов, причем наличие цифр не допускается;\n",
    "• между последней точкой и символом \"@\" должно быть не менее 2-х символов\n",
    "• слева от \"@\" должно быть не менее 4-символов"
   ]
  },
  {
   "cell_type": "code",
   "execution_count": 10,
   "metadata": {},
   "outputs": [],
   "source": [
    "def check_email():\n",
    "    email_list=['test@test.com','aaa@1.com','aaa_@a1.com','aaa@12.com','test 1@test.com','aaaa@123.com','ф@test.ru','1234.1@com',\n",
    "            '1 1234@1.com','12345,1@1.com','123:1@1.com','1;134@1.com','1!11@1.com','1#34@1.com',\n",
    "            '1%34@1.com','a*34@1.com','a(@15.com','a234@)1.com','a=34@134.com','a+34@1.com','v{34@1.com',\n",
    "            'c}34@1.com','a/34@1.com','a\\34@1.com','x|34@1.com','mx34@1..com']\n",
    "    for el in email_list:\n",
    "        if (re.search(r'[a-zA-Z][a-zA-Z0-9_]{3,}[@][a-zA-Z0-9][a-zA-Z0-9_]+[.][a-zA-Z]{2,4}',el)):\n",
    "            print(el, ' - e-mail')\n",
    "        else:\n",
    "            print(el, ' - НЕ e-mail')          "
   ]
  },
  {
   "cell_type": "code",
   "execution_count": 11,
   "metadata": {},
   "outputs": [
    {
     "name": "stdout",
     "output_type": "stream",
     "text": [
      "test@test.com  - e-mail\n",
      "aaa@1.com  - НЕ e-mail\n",
      "aaa_@a1.com  - e-mail\n",
      "aaa@12.com  - НЕ e-mail\n",
      "test 1@test.com  - НЕ e-mail\n",
      "aaaa@123.com  - e-mail\n",
      "ф@test.ru  - НЕ e-mail\n",
      "1234.1@com  - НЕ e-mail\n",
      "1 1234@1.com  - НЕ e-mail\n",
      "12345,1@1.com  - НЕ e-mail\n",
      "123:1@1.com  - НЕ e-mail\n",
      "1;134@1.com  - НЕ e-mail\n",
      "1!11@1.com  - НЕ e-mail\n",
      "1#34@1.com  - НЕ e-mail\n",
      "1%34@1.com  - НЕ e-mail\n",
      "a*34@1.com  - НЕ e-mail\n",
      "a(@15.com  - НЕ e-mail\n",
      "a234@)1.com  - НЕ e-mail\n",
      "a=34@134.com  - НЕ e-mail\n",
      "a+34@1.com  - НЕ e-mail\n",
      "v{34@1.com  - НЕ e-mail\n",
      "c}34@1.com  - НЕ e-mail\n",
      "a/34@1.com  - НЕ e-mail\n",
      "a\u001c",
      "@1.com  - НЕ e-mail\n",
      "x|34@1.com  - НЕ e-mail\n",
      "mx34@1..com  - НЕ e-mail\n"
     ]
    }
   ],
   "source": [
    "check_email()"
   ]
  },
  {
   "cell_type": "markdown",
   "metadata": {},
   "source": [
    "Задание 3. \n",
    "Напишите функцию, которая будет удалять все последовательные повторы слов из заданной строки при помощи регулярных выражений."
   ]
  },
  {
   "cell_type": "code",
   "execution_count": 12,
   "metadata": {},
   "outputs": [],
   "source": [
    "import re\n",
    "def check_replay():\n",
    "    text = \"В регулярных регулярных выражениях  Выражениях, убираем       Убираем повторы повторы повторы\"\n",
    "    print( re.sub(r'\\b([^\\W\\d_]+)(\\s+\\1)+\\b', r'\\1', re.sub(r'\\W+', ' ', text).strip(), flags=re.I) )"
   ]
  },
  {
   "cell_type": "code",
   "execution_count": 13,
   "metadata": {},
   "outputs": [
    {
     "name": "stdout",
     "output_type": "stream",
     "text": [
      "В регулярных выражениях убираем повторы\n"
     ]
    }
   ],
   "source": [
    "check_replay()"
   ]
  },
  {
   "cell_type": "markdown",
   "metadata": {},
   "source": [
    "Задание 4.\n",
    "Напишите функцию, которая будет проверять номер сотового телефона на валидность, если он валиден, то переводить его в формат:\n",
    "+7(xxx)-xxx-xx-xx\n",
    "Постарайтесь предусмотреть как можно больше адекватных форматов изначального ввода номера. \n",
    "Примеры валидных форматов:• \n",
    "+7 955 555-55-55;\n",
    "• 9555555555;\n",
    "• 8(955)555-55-55;\n",
    "• +7 955 555 55 55;\n",
    "• 7(955) 555-55-55;\n",
    "• +7 955+555+55+55."
   ]
  },
  {
   "cell_type": "code",
   "execution_count": 59,
   "metadata": {},
   "outputs": [
    {
     "name": "stdout",
     "output_type": "stream",
     "text": [
      "findall\n",
      "+7( 955 )- 555 - 55 - 51\n",
      "+7( 123 )- 456 - 78 - 92\n",
      "+7( 955 )- 555 - 55 - 53\n",
      "+7( 955 )- 555 - 55 - 54\n",
      "+7( 555 )- 955 - 55 - 55\n",
      "match:\n",
      "+7( 955 ) - 555 - 55 - 51\n",
      "+7( 123 ) - 456 - 78 - 92\n",
      "+7( 955 ) - 555 - 55 - 53\n",
      "+7( 955 ) - 555 - 55 - 54\n",
      "+7( 955 ) - 555 - 55 - 55\n",
      "+7( 955 ) - 555 - 55 - 56\n"
     ]
    }
   ],
   "source": [
    "text = '+7 955 555-55-51;91234567892;8(955)555-55-53;+7 955 555 55 54;7(955) 555-55-55;+7 955+555+55+56'\n",
    "#text = '8(955)555-55-55'\n",
    "number_list=re.findall(r'(8|9|\\+7).*?(\\d{3}).*?(\\d{3}).*?(\\d{2}).*?(\\d{2})', text)\n",
    "print('findall')\n",
    "for el in number_list:\n",
    "    print('+7(',el[1],')-',el[2],'-',el[3],'-',el[4])\n",
    "text_list=text.split(';')\n",
    "print('match:')\n",
    "for el in text_list:\n",
    "#    print('el=',el)\n",
    "#    print(type(el))\n",
    "    number_match=re.search(r'(8|9|\\+7|7).*?(\\d{3}).*?(\\d{3}).*?(\\d{2}).*?(\\d{2})', el)\n",
    "#    print('nm=',number_match)\n",
    "    print('+7(',number_match.group(2),')','-',number_match.group(3),'-',number_match.group(4),'-',number_match.group(5))\n"
   ]
  },
  {
   "cell_type": "code",
   "execution_count": null,
   "metadata": {},
   "outputs": [],
   "source": [
    "(\\d{1})(\\()(\\d{3})(\\))."
   ]
  }
 ],
 "metadata": {
  "kernelspec": {
   "display_name": "Python 3",
   "language": "python",
   "name": "python3"
  },
  "language_info": {
   "codemirror_mode": {
    "name": "ipython",
    "version": 3
   },
   "file_extension": ".py",
   "mimetype": "text/x-python",
   "name": "python",
   "nbconvert_exporter": "python",
   "pygments_lexer": "ipython3",
   "version": "3.7.6"
  }
 },
 "nbformat": 4,
 "nbformat_minor": 4
}
