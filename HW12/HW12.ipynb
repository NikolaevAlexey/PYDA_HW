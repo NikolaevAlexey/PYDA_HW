{
 "cells": [
  {
   "cell_type": "markdown",
   "metadata": {},
   "source": [
    "Задание 1** \n",
    "Напишите функцию, которая классифицирует фильмы из материалов занятия по следующим правилам: \n",
    "    - оценка 2 и меньше - низкий рейтинг\n",
    "    - оценка 4 и меньше - средний рейтинг \n",
    "    - оценка 4.5 и 5 - высокий рейтинг \n",
    "Результат классификации запишите в столбец class \n",
    "**Задание 2** \n",
    "Используем файл keywords.csv. \n",
    "Необходимо написать гео-классификатор,который каждой строке сможет выставить географическую принадлежность определенному региону. \n",
    "Т. е. если поисковый запрос содержит название города региона, то в столбце 'region' пишется название этого региона. \n",
    "Если поисковый запрос не содержит названия города, то ставим 'undefined'. \n",
    "Правила распределения по регионам Центр, Северо-Запад и Дальний Восток: \n",
    "geo_data = { \n",
    "    'Центр': ['москва', 'тула', 'ярославль'], \n",
    "    'Северо-Запад': ['петербург', 'псков', 'мурманск'], \n",
    "    'Дальний Восток': ['владивосток', 'сахалин', 'хабаровск']\n",
    "} \n",
    "Результат классификации запишите в отдельный столбец region. \n",
    "**Задание 3 (бонусное)** \n",
    "Есть мнение, что \"раньше снимали настоящее кино, не то что сейчас\". Ваша задача проверить это утверждение, используя файлы с рейтингами фильмов из прошлого домашнего занятия (файл ratings.csv из базы https://grouplens.org/datasets/movielens). Т. е. проверить верно ли, что с ростом года выпуска фильма его средний рейтинг становится ниже. \n",
    "При этом мы не будем затрагивать субьективные факторы выставления этих рейтингов, а пройдемся по следующему алгоритму: \n",
    "1. В переменную years запишите список из всех годов с 1950 по 2010. \n",
    "2. Напишите функцию production_year, которая каждой строке из названия фильма выставляет год выпуска. Не все названия фильмов содержат год выпуска в одинаковом формате, поэтому используйте следующий алгоритм: \n",
    "- для каждой строки пройдите по всем годам списка years \n",
    "- если номер года присутствует в названии фильма, то функция возвращает этот год как год выпуска \n",
    "- если ни один из номеров года списка years не встретился в названии фильма, то возвращается 1900 год \n",
    "3. Запишите год выпуска фильма по алгоритму пункта 2 в новый столбец 'year' \n",
    "4. Посчитайте средний рейтинг всех фильмов для каждого значения столбца 'year' и отсортируйте результат по убыванию рейтинга \n",
    "**Важно! При копировании юпитер ноутбука изменяет кавычки ’ на ` , что может способствовать ошибки в коде. В данной ситуации необходимо их просто заменить.** "
   ]
  },
  {
   "cell_type": "code",
   "execution_count": 11,
   "metadata": {},
   "outputs": [],
   "source": [
    "import pandas as pd"
   ]
  },
  {
   "cell_type": "code",
   "execution_count": 12,
   "metadata": {},
   "outputs": [
    {
     "data": {
      "text/html": [
       "<div>\n",
       "<style scoped>\n",
       "    .dataframe tbody tr th:only-of-type {\n",
       "        vertical-align: middle;\n",
       "    }\n",
       "\n",
       "    .dataframe tbody tr th {\n",
       "        vertical-align: top;\n",
       "    }\n",
       "\n",
       "    .dataframe thead th {\n",
       "        text-align: right;\n",
       "    }\n",
       "</style>\n",
       "<table border=\"1\" class=\"dataframe\">\n",
       "  <thead>\n",
       "    <tr style=\"text-align: right;\">\n",
       "      <th></th>\n",
       "      <th>userId</th>\n",
       "      <th>movieId</th>\n",
       "      <th>rating</th>\n",
       "      <th>timestamp</th>\n",
       "    </tr>\n",
       "  </thead>\n",
       "  <tbody>\n",
       "    <tr>\n",
       "      <th>0</th>\n",
       "      <td>1</td>\n",
       "      <td>1</td>\n",
       "      <td>4.0</td>\n",
       "      <td>964982703</td>\n",
       "    </tr>\n",
       "    <tr>\n",
       "      <th>1</th>\n",
       "      <td>1</td>\n",
       "      <td>3</td>\n",
       "      <td>4.0</td>\n",
       "      <td>964981247</td>\n",
       "    </tr>\n",
       "    <tr>\n",
       "      <th>2</th>\n",
       "      <td>1</td>\n",
       "      <td>6</td>\n",
       "      <td>4.0</td>\n",
       "      <td>964982224</td>\n",
       "    </tr>\n",
       "    <tr>\n",
       "      <th>3</th>\n",
       "      <td>1</td>\n",
       "      <td>47</td>\n",
       "      <td>5.0</td>\n",
       "      <td>964983815</td>\n",
       "    </tr>\n",
       "    <tr>\n",
       "      <th>4</th>\n",
       "      <td>1</td>\n",
       "      <td>50</td>\n",
       "      <td>5.0</td>\n",
       "      <td>964982931</td>\n",
       "    </tr>\n",
       "  </tbody>\n",
       "</table>\n",
       "</div>"
      ],
      "text/plain": [
       "   userId  movieId  rating  timestamp\n",
       "0       1        1     4.0  964982703\n",
       "1       1        3     4.0  964981247\n",
       "2       1        6     4.0  964982224\n",
       "3       1       47     5.0  964983815\n",
       "4       1       50     5.0  964982931"
      ]
     },
     "execution_count": 12,
     "metadata": {},
     "output_type": "execute_result"
    }
   ],
   "source": [
    "data = pd.read_csv('ratings_small.csv')\n",
    "data.head()"
   ]
  },
  {
   "cell_type": "code",
   "execution_count": 13,
   "metadata": {},
   "outputs": [],
   "source": [
    "def classifier(param):\n",
    "    if param <= 2.0:\n",
    "        return 'Низкий рейтинг'\n",
    "    if(param > 2.0) & (param <= 4.0):\n",
    "        return 'Средний рейтинг'\n",
    "    if (param > 4.0) & (param <= 5.0):\n",
    "        return 'Высокий рейтинг'"
   ]
  },
  {
   "cell_type": "code",
   "execution_count": 14,
   "metadata": {},
   "outputs": [
    {
     "data": {
      "text/html": [
       "<div>\n",
       "<style scoped>\n",
       "    .dataframe tbody tr th:only-of-type {\n",
       "        vertical-align: middle;\n",
       "    }\n",
       "\n",
       "    .dataframe tbody tr th {\n",
       "        vertical-align: top;\n",
       "    }\n",
       "\n",
       "    .dataframe thead th {\n",
       "        text-align: right;\n",
       "    }\n",
       "</style>\n",
       "<table border=\"1\" class=\"dataframe\">\n",
       "  <thead>\n",
       "    <tr style=\"text-align: right;\">\n",
       "      <th></th>\n",
       "      <th>userId</th>\n",
       "      <th>movieId</th>\n",
       "      <th>rating</th>\n",
       "      <th>timestamp</th>\n",
       "      <th>class</th>\n",
       "    </tr>\n",
       "  </thead>\n",
       "  <tbody>\n",
       "    <tr>\n",
       "      <th>1939</th>\n",
       "      <td>18</td>\n",
       "      <td>2706</td>\n",
       "      <td>3.5</td>\n",
       "      <td>1455231410</td>\n",
       "      <td>Средний рейтинг</td>\n",
       "    </tr>\n",
       "    <tr>\n",
       "      <th>4710</th>\n",
       "      <td>28</td>\n",
       "      <td>60674</td>\n",
       "      <td>2.5</td>\n",
       "      <td>1234853684</td>\n",
       "      <td>Средний рейтинг</td>\n",
       "    </tr>\n",
       "    <tr>\n",
       "      <th>55169</th>\n",
       "      <td>365</td>\n",
       "      <td>155820</td>\n",
       "      <td>3.5</td>\n",
       "      <td>1488945263</td>\n",
       "      <td>Средний рейтинг</td>\n",
       "    </tr>\n",
       "    <tr>\n",
       "      <th>82018</th>\n",
       "      <td>520</td>\n",
       "      <td>1214</td>\n",
       "      <td>5.0</td>\n",
       "      <td>1326609215</td>\n",
       "      <td>Высокий рейтинг</td>\n",
       "    </tr>\n",
       "    <tr>\n",
       "      <th>33018</th>\n",
       "      <td>225</td>\n",
       "      <td>2302</td>\n",
       "      <td>4.0</td>\n",
       "      <td>949111556</td>\n",
       "      <td>Средний рейтинг</td>\n",
       "    </tr>\n",
       "    <tr>\n",
       "      <th>10311</th>\n",
       "      <td>66</td>\n",
       "      <td>7647</td>\n",
       "      <td>4.0</td>\n",
       "      <td>1093747992</td>\n",
       "      <td>Средний рейтинг</td>\n",
       "    </tr>\n",
       "    <tr>\n",
       "      <th>34605</th>\n",
       "      <td>232</td>\n",
       "      <td>54004</td>\n",
       "      <td>3.0</td>\n",
       "      <td>1241923882</td>\n",
       "      <td>Средний рейтинг</td>\n",
       "    </tr>\n",
       "    <tr>\n",
       "      <th>100182</th>\n",
       "      <td>610</td>\n",
       "      <td>44199</td>\n",
       "      <td>4.0</td>\n",
       "      <td>1493847397</td>\n",
       "      <td>Средний рейтинг</td>\n",
       "    </tr>\n",
       "    <tr>\n",
       "      <th>43468</th>\n",
       "      <td>291</td>\n",
       "      <td>50872</td>\n",
       "      <td>5.0</td>\n",
       "      <td>1453051531</td>\n",
       "      <td>Высокий рейтинг</td>\n",
       "    </tr>\n",
       "    <tr>\n",
       "      <th>10563</th>\n",
       "      <td>68</td>\n",
       "      <td>1234</td>\n",
       "      <td>3.5</td>\n",
       "      <td>1158533066</td>\n",
       "      <td>Средний рейтинг</td>\n",
       "    </tr>\n",
       "  </tbody>\n",
       "</table>\n",
       "</div>"
      ],
      "text/plain": [
       "        userId  movieId  rating   timestamp            class\n",
       "1939        18     2706     3.5  1455231410  Средний рейтинг\n",
       "4710        28    60674     2.5  1234853684  Средний рейтинг\n",
       "55169      365   155820     3.5  1488945263  Средний рейтинг\n",
       "82018      520     1214     5.0  1326609215  Высокий рейтинг\n",
       "33018      225     2302     4.0   949111556  Средний рейтинг\n",
       "10311       66     7647     4.0  1093747992  Средний рейтинг\n",
       "34605      232    54004     3.0  1241923882  Средний рейтинг\n",
       "100182     610    44199     4.0  1493847397  Средний рейтинг\n",
       "43468      291    50872     5.0  1453051531  Высокий рейтинг\n",
       "10563       68     1234     3.5  1158533066  Средний рейтинг"
      ]
     },
     "execution_count": 14,
     "metadata": {},
     "output_type": "execute_result"
    }
   ],
   "source": [
    "data['class'] = data['rating'].apply(classifier)\n",
    "#data.head()\n",
    "data.sample(10)"
   ]
  },
  {
   "cell_type": "code",
   "execution_count": 15,
   "metadata": {},
   "outputs": [
    {
     "name": "stdout",
     "output_type": "stream",
     "text": [
      "         keyword     shows\n",
      "0             вк  64292779\n",
      "1  одноклассники  63810309\n",
      "2          порно  41747114\n",
      "3           ютуб  39995567\n",
      "4      вконтакте  21014195\n"
     ]
    }
   ],
   "source": [
    "data = pd.read_csv('keywords.csv')\n",
    "print(data.head())\n",
    "# print(data.sample())\n",
    "# print(data.tail())\n",
    "geo_data = {\n",
    "    'Центр': ['москва', 'тула', 'ярославль'],\n",
    "    'Северо-Запад': ['петербург', 'псков', 'мурманск'],\n",
    "    'Дальний Восток': ['владивосток', 'сахалин', 'хабаровск']\n",
    "}"
   ]
  },
  {
   "cell_type": "code",
   "execution_count": 16,
   "metadata": {},
   "outputs": [],
   "source": [
    "def classifier(param):\n",
    "    for key, values in geo_data.items():\n",
    "        for value in values:\n",
    "            if param in value:\n",
    "                return key\n",
    "    return 'undefined'"
   ]
  },
  {
   "cell_type": "code",
   "execution_count": 18,
   "metadata": {},
   "outputs": [
    {
     "name": "stdout",
     "output_type": "stream",
     "text": [
      "                    keyword  shows     region\n",
      "32795                 запор  10013  undefined\n",
      "36485         топ хотелс ру   9090  undefined\n",
      "26198               винокур  12212  undefined\n",
      "44605              джо пеши   7646  undefined\n",
      "41380  гисметео альметьевск   8232  undefined\n",
      "...                     ...    ...        ...\n",
      "60637            бенни хилл   5777  undefined\n",
      "74982   рекорд радио онлайн  21610  undefined\n",
      "82052             uz gov ua   4369  undefined\n",
      "80187       солкосерил гель   4936  undefined\n",
      "6704             электрички  38462  undefined\n",
      "\n",
      "[100 rows x 3 columns]\n"
     ]
    },
    {
     "data": {
      "text/plain": [
       "undefined         99926\n",
       "Дальний Восток       29\n",
       "Центр                24\n",
       "Северо-Запад         21\n",
       "Name: region, dtype: int64"
      ]
     },
     "execution_count": 18,
     "metadata": {},
     "output_type": "execute_result"
    }
   ],
   "source": [
    "data['region'] = data['keyword'].apply(classifier)\n",
    "print(data.sample(100))\n",
    "data.region.value_counts()"
   ]
  },
  {
   "cell_type": "code",
   "execution_count": null,
   "metadata": {},
   "outputs": [],
   "source": []
  }
 ],
 "metadata": {
  "kernelspec": {
   "display_name": "Python 3",
   "language": "python",
   "name": "python3"
  },
  "language_info": {
   "codemirror_mode": {
    "name": "ipython",
    "version": 3
   },
   "file_extension": ".py",
   "mimetype": "text/x-python",
   "name": "python",
   "nbconvert_exporter": "python",
   "pygments_lexer": "ipython3",
   "version": "3.7.6"
  }
 },
 "nbformat": 4,
 "nbformat_minor": 4
}
