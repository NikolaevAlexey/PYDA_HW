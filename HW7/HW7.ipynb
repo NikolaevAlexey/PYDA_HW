{
 "cells": [
  {
   "cell_type": "markdown",
   "metadata": {},
   "source": [
    "Задание 1\n",
    "Печатные газеты использовали свой формат дат для каждого выпуска. \n",
    "Для каждой газеты из списка напишите формат указанной даты для перевода в объект datetime:\n",
    "The Moscow Times - Wednesday, October 2, 2002\n",
    "The Guardian - Friday, 11.10.13\n",
    "Daily News - Thursday, 18 August 1977"
   ]
  },
  {
   "cell_type": "code",
   "execution_count": null,
   "metadata": {},
   "outputs": [],
   "source": [
    "from datetime import datetime\n",
    "\n",
    "date_datetime1=datetime.strptime('Wednesday, October 2, 2002', '%A, %B %d, %Y')\n",
    "print('The Moscow Times : ',date_datetime1)\n",
    "\n",
    "date_datetime2=datetime.strptime('Friday, 11.10.13', '%A, %d.%m.%y')\n",
    "print('The Guardian : ',date_datetime2)\n",
    "\n",
    "date_datetime3=datetime.strptime('Thursday, 18 August 1977', '%A, %d %B %Y')\n",
    "print('Daily News : ',date_datetime3)"
   ]
  },
  {
   "cell_type": "markdown",
   "metadata": {},
   "source": [
    "Задание 2\n",
    "Дан поток дат в формате YYYY-MM-DD, в которых встречаются некорректные значения:\n",
    "stream = ['2018-04-02', '2018-02-29', '2018-19-02']\n",
    "\n",
    "Напишите функцию, которая проверяет эти даты на корректность. \n",
    "Т. е. для каждой даты возвращает True (дата корректна) или False (некорректная дата). "
   ]
  },
  {
   "cell_type": "code",
   "execution_count": null,
   "metadata": {},
   "outputs": [],
   "source": [
    "def check_date(el):\n",
    "    from datetime import datetime\n",
    "    try:\n",
    "        date_datetime=datetime.strptime(el, '%Y-%m-%d')\n",
    "        return True\n",
    "    except:\n",
    "        return False"
   ]
  },
  {
   "cell_type": "code",
   "execution_count": null,
   "metadata": {},
   "outputs": [],
   "source": [
    "def main():\n",
    "    stream = ['2018-04-02', '2018-02-29', '2018-19-02']\n",
    "    for el in stream:\n",
    "        print(check_date(el))"
   ]
  },
  {
   "cell_type": "code",
   "execution_count": null,
   "metadata": {},
   "outputs": [],
   "source": [
    "main()"
   ]
  },
  {
   "cell_type": "markdown",
   "metadata": {},
   "source": [
    "Задание 3\n",
    "Напишите функцию date_range, которая возвращает список дат за период от start_date до end_date. \n",
    "Даты должны вводиться в формате YYYY-MM-DD. \n",
    "В случае неверного формата или при start_date > end_date должен возвращаться пустой список."
   ]
  },
  {
   "cell_type": "code",
   "execution_count": 1,
   "metadata": {},
   "outputs": [],
   "source": [
    "def check_date(data):\n",
    "    from datetime import datetime\n",
    "    try:\n",
    "        date_datetime=datetime.strptime(data, '%Y-%m-%d')\n",
    "        return True\n",
    "    except:\n",
    "        return False\n",
    "\n",
    "def date_range():\n",
    "    from datetime import datetime\n",
    "    from datetime import timedelta\n",
    "    start_date = '2001-01'\n",
    "    end_date = '2001-01'\n",
    "    data_list = []\n",
    "    while not check_date(start_date):\n",
    "        start_date = input('Введите дату начала в формате YYYY-MM-DD : ')\n",
    "    while not check_date(end_date):\n",
    "        end_date = input('Введите дату окончания в формате YYYY-MM-DD: ')\n",
    "    datetime_start=datetime.strptime(start_date, '%Y-%m-%d')\n",
    "    datetime_end=datetime.strptime(end_date, '%Y-%m-%d')\n",
    "    while datetime_start<=datetime_end:\n",
    "        data_list.append(datetime_start.strftime('%Y-%m-%d'))\n",
    "        datetime_start+=timedelta(days=1)\n",
    "    return data_list\n",
    "def main():\n",
    "    print(date_range())"
   ]
  },
  {
   "cell_type": "code",
   "execution_count": 2,
   "metadata": {},
   "outputs": [
    {
     "name": "stdout",
     "output_type": "stream",
     "text": [
      "Введите дату начала в формате YYYY-MM-DD : 2001-01-01\n",
      "Введите дату окончания в формате YYYY-MM-DD: 2001-01-09\n",
      "['2001-01-01', '2001-01-02', '2001-01-03', '2001-01-04', '2001-01-05', '2001-01-06', '2001-01-07', '2001-01-08', '2001-01-09']\n"
     ]
    }
   ],
   "source": [
    "main()"
   ]
  },
  {
   "cell_type": "code",
   "execution_count": null,
   "metadata": {},
   "outputs": [],
   "source": []
  },
  {
   "cell_type": "code",
   "execution_count": null,
   "metadata": {},
   "outputs": [],
   "source": []
  }
 ],
 "metadata": {
  "kernelspec": {
   "display_name": "Python 3",
   "language": "python",
   "name": "python3"
  },
  "language_info": {
   "codemirror_mode": {
    "name": "ipython",
    "version": 3
   },
   "file_extension": ".py",
   "mimetype": "text/x-python",
   "name": "python",
   "nbconvert_exporter": "python",
   "pygments_lexer": "ipython3",
   "version": "3.7.6"
  }
 },
 "nbformat": 4,
 "nbformat_minor": 4
}
